{
 "cells": [
  {
   "cell_type": "code",
   "execution_count": null,
   "metadata": {},
   "outputs": [],
   "source": [
    "import plotly.express as px\n",
    "import random\n",
    "\n",
    "qnt = 1000000\n",
    "\n",
    "y = [0]\n",
    "for i in range(qnt):\n",
    "    new_num = random.randint(y[i] - 1, y[i] + 1)\n",
    "    y.append(new_num)\n",
    "\n",
    "x = []\n",
    "for i in range(len(y)):\n",
    "    x.append(i)\n",
    "\n",
    "fig = px.line(x=x, y=y)\n",
    "fig.show()"
   ]
  }
 ],
 "metadata": {
  "kernelspec": {
   "display_name": "Python 3",
   "language": "python",
   "name": "python3"
  },
  "language_info": {
   "codemirror_mode": {
    "name": "ipython",
    "version": 3
   },
   "file_extension": ".py",
   "mimetype": "text/x-python",
   "name": "python",
   "nbconvert_exporter": "python",
   "pygments_lexer": "ipython3",
   "version": "3.11.1"
  },
  "orig_nbformat": 4
 },
 "nbformat": 4,
 "nbformat_minor": 2
}
